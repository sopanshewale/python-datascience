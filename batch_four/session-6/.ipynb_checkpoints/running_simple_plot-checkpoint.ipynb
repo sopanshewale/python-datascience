{
 "cells": [
  {
   "cell_type": "code",
   "execution_count": 2,
   "metadata": {},
   "outputs": [
    {
     "data": {
      "image/png": "[encoded data removed]",
      "text/plain": [
       "<matplotlib.figure.Figure at 0x7ffb5cb860b8>"
      ]
     },
     "metadata": {},
     "output_type": "display_data"
    }
   ],
   "source": [
    "import re\n",
    "year = []\n",
    "finish_time = []\n",
    "\n",
    "with open('100_meter.csv', 'r') as f:\n",
    "    for line in f:\n",
    "        line = re.sub('\\s+', '', line)\n",
    "        line_elements = line.split(',')\n",
    "        if line_elements[0] != '' and line_elements[0] != 'Year':\n",
    "            year.append(int(line_elements[0]))\n",
    "        if line_elements[1] != '' and line_elements[1] != 'Time':\n",
    "            finish_time.append(float(line_elements[1]))\n",
    "#print (year)\n",
    "#print (finish_time)\n",
    "\n",
    "import matplotlib.pyplot as plt\n",
    "plt.plot(year, finish_time, 'ro')\n",
    "plt.xlabel('Year')\n",
    "plt.ylabel('Time - Finish')\n",
    "plt.show()\n",
    "\n",
    "\n",
    "\n",
    "        "
   ]
  }
 ],
 "metadata": {
  "kernelspec": {
   "display_name": "Python 3",
   "language": "python",
   "name": "python3"
  },
  "language_info": {
   "codemirror_mode": {
    "name": "ipython",
    "version": 3
   },
   "file_extension": ".py",
   "mimetype": "text/x-python",
   "name": "python",
   "nbconvert_exporter": "python",
   "pygments_lexer": "ipython3",
   "version": "3.6.1"
  }
 },
 "nbformat": 4,
 "nbformat_minor": 2
}
